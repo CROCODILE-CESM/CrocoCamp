{
 "cells": [
  {
   "cell_type": "markdown",
   "id": "0",
   "metadata": {},
   "source": [
    "# Model-Observation Comparison Visualization\n",
    "\n",
    "This notebook demonstrates the interactive map widget for visualizing model-observation comparisons.\n",
    "All widget setup, callbacks, and plotting logic has been moved to the `crococamp.viz` module."
   ]
  },
  {
   "cell_type": "code",
   "execution_count": null,
   "id": "1",
   "metadata": {},
   "outputs": [],
   "source": [
    "# Option 1: Load pre-existing parquet data (most common use case)\n",
    "from crococamp.utils.config import read_config\n",
    "config = read_config(\"../demo/config.yaml\")\n",
    "\n",
    "import dask.dataframe as dd\n",
    "ddf = dd.read_parquet(config[\"parquet_folder\"])\n",
    "ddf.head()"
   ]
  },
  {
   "cell_type": "code",
   "execution_count": null,
   "id": "1.5",
   "metadata": {},
   "outputs": [],
   "source": [
    "# Option 2: Generate parquet data using workflow classes (alternative approach)\n",
    "# This demonstrates the full pipeline from raw data to visualization\n",
    "# Uncomment and modify the following code if you want to generate data programmatically:\n",
    "\n",
    "# from crococamp.workflows import WorkflowModelObs\n",
    "# \n",
    "# # Load workflow with configuration\n",
    "# workflow = WorkflowModelObs.from_config_file(\"../demo/config.yaml\")\n",
    "# \n",
    "# # Run the complete data processing pipeline\n",
    "# # This will generate parquet files that can then be visualized\n",
    "# files_processed = workflow.run(trim_obs=True, no_matching=False, parquet_only=True)\n",
    "# print(f\"Processed {files_processed} files\")\n",
    "# \n",
    "# # Now load the generated parquet data\n",
    "# import dask.dataframe as dd\n",
    "# ddf = dd.read_parquet(workflow.get_config(\"parquet_folder\"))"
   ]
  },
  {
   "cell_type": "code",
   "execution_count": null,
   "id": "2",
   "metadata": {},
   "outputs": [],
   "source": [
    "# Create and setup the interactive map widget\n",
    "from crococamp.viz import InteractiveMapWidget, MapConfig\n",
    "\n",
    "# Optional: customize the map configuration\n",
    "# config = MapConfig(\n",
    "#     colormap='viridis',                    # Change colormap\n",
    "#     plot_title='Custom Analysis Title',   # Change plot title\n",
    "#     figure_size=(20, 12),                 # Change figure size\n",
    "#     map_extent=(-180, 180, -90, 90)       # Set custom map extent (lon_min, lon_max, lat_min, lat_max)\n",
    "# )\n",
    "\n",
    "# Create the widget with default configuration\n",
    "widget = InteractiveMapWidget(ddf)  # Add config=config if customizing\n",
    "\n",
    "# Setup and display the interactive widget\n",
    "widget.setup()"
   ]
  },
  {
   "cell_type": "code",
   "execution_count": null,
   "id": "3",
   "metadata": {},
   "outputs": [],
   "source": []
  }
 ],
 "metadata": {
  "kernelspec": {
   "display_name": "Python [conda env:crococamp]",
   "language": "python",
   "name": "conda-env-crococamp-py"
  },
  "language_info": {
   "codemirror_mode": {
    "name": "ipython",
   "version": 3
   },
   "file_extension": ".py",
   "mimetype": "text/x-python",
   "name": "python",
   "nbconvert_exporter": "python",
   "pygments_lexer": "ipython3",
   "version": "3.12.11"
  }
 },
 "nbformat": 4,
 "nbformat_minor": 5
}
