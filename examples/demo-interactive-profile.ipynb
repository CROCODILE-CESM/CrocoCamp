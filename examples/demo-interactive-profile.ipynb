{
 "cells": [
  {
   "cell_type": "markdown",
   "id": "0",
   "metadata": {},
   "source": [
    "# Interactive Profile Widget Demo\n",
    "\n",
    "This notebook demonstrates the new `InteractiveWidgetProfile` for creating interactive 2D scatter plots from CrocoCamp data.\n",
    "\n",
    "## Features\n",
    "\n",
    "The `InteractiveWidgetProfile` provides:\n",
    "\n",
    "- **Interactive axis selection**: Choose x and y axes from dropdown menus\n",
    "- **Type filtering**: Select one or more observation types to display\n",
    "- **Automatic y-axis inversion**: Default behavior for ocean depth profiles\n",
    "- **Real-time updates**: Plot updates immediately when controls change\n",
    "- **Configurable appearance**: Customize colors, sizes, and plot style\n",
    "- **Pandas/Dask support**: Works with both DataFrame types\n",
    "\n",
    "## Widget Controls\n",
    "\n",
    "1. **X-axis dropdown**: Select column for horizontal axis\n",
    "2. **Y-axis dropdown**: Select column for vertical axis  \n",
    "3. **Types multi-select**: Choose which observation types to show\n",
    "\n",
    "The plot updates automatically when you change any control!"
   ]
  },
  {
   "cell_type": "code",
   "execution_count": null,
   "id": "1",
   "metadata": {},
   "outputs": [],
   "source": [
    "# Load parquet data from a previous run\n",
    "from crococamp.workflows import WorkflowModelObs\n",
    "import dask.dataframe as dd\n",
    "\n",
    "# This loads pre-computed data from NCAR system for the demo\n",
    "ddf = dd.read_parquet('/glade/u/home/emilanese/work/DATA/CrocoCamp/demo/out_parquet_float/')\n",
    "\n",
    "# # You can run your own workflow, or load the path from a config file and use that path as follow\n",
    "# workflow = WorkflowModelObs.from_config_file(\"/path/to/config_FLOAT.yaml\") # replace with your path\n",
    "# ddf = dd.read_parquet(workflow.get_config(\"parquet_folder\"))"
   ]
  },
  {
   "cell_type": "code",
   "execution_count": null,
   "id": "2",
   "metadata": {},
   "outputs": [],
   "source": [
    "# Basic usage: Default axes (obs vs vertical)\n",
    "from crococamp.viz import InteractiveWidgetProfile\n",
    "\n",
    "widget1 = InteractiveWidgetProfile(ddf)\n",
    "widget1.setup()"
   ]
  },
  {
   "cell_type": "code",
   "execution_count": null,
   "id": "3",
   "metadata": {},
   "outputs": [],
   "source": [
    "# Custom axes: Residual analysis\n",
    "widget2 = InteractiveWidgetProfile(ddf, x='abs_residual', y='vertical')\n",
    "widget2.setup()"
   ]
  },
  {
   "cell_type": "code",
   "execution_count": null,
   "id": "4",
   "metadata": {},
   "outputs": [],
   "source": [
    "# More custom configuration\n",
    "from crococamp.viz import ProfileConfig\n",
    "\n",
    "config = ProfileConfig(\n",
    "    figure_size=(8, 8),\n",
    "    marker_size=30,\n",
    "    marker_alpha=0.8,\n",
    "    invert_yaxis=False,  # Don't invert for this example\n",
    "    grid=True\n",
    ")\n",
    "\n",
    "widget3 = InteractiveWidgetProfile(ddf, x='obs', y='perfect_model', config=config)\n",
    "widget3.setup()"
   ]
  }
 ],
 "metadata": {
  "kernelspec": {
   "display_name": "Python [conda env:crococamp]",
   "language": "python",
   "name": "conda-env-crococamp-py"
  },
  "language_info": {
   "codemirror_mode": {
    "name": "ipython",
    "version": 3
   },
   "file_extension": ".py",
   "mimetype": "text/x-python",
   "name": "python",
   "nbconvert_exporter": "python",
   "pygments_lexer": "ipython3",
   "version": "3.12.11"
  }
 },
 "nbformat": 4,
 "nbformat_minor": 5
}
