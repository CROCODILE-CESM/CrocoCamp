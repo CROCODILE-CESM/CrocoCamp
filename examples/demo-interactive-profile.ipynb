{
 "cells": [
  {
   "cell_type": "markdown",
   "id": "0",
   "metadata": {},
   "source": [
    "# Interactive Profile Widget Demo\n",
    "\n",
    "This notebook demonstrates the new `InteractiveProfileWidget` for creating interactive 2D scatter plots from CrocoCamp data."
   ]
  },
  {
   "cell_type": "code",
   "execution_count": null,
   "id": "1",
   "metadata": {},
   "outputs": [],
   "source": [
    "# Create sample data (or load your own parquet data)\n",
    "import pandas as pd\n",
    "import numpy as np\n",
    "\n",
    "# Example: Create synthetic ocean profile data\n",
    "np.random.seed(42)\n",
    "n_points = 1000\n",
    "\n",
    "# Simulate realistic ocean profile patterns\n",
    "depths = np.random.uniform(0, 500, n_points)\n",
    "temperatures = 25 - depths * 0.02 + np.random.normal(0, 2, n_points)\n",
    "\n",
    "df = pd.DataFrame({\n",
    "    'obs': temperatures,  # Observed values\n",
    "    'vertical': depths,   # Depth coordinate  \n",
    "    'abs_residual': np.abs(np.random.normal(0, 1.5, n_points)),  # Model-obs differences\n",
    "    'residual': np.random.normal(0, 1.5, n_points),  # Signed residuals\n",
    "    'salinity': 34 + depths * 0.003 + np.random.normal(0, 0.5, n_points),\n",
    "    'longitude': np.random.uniform(-180, 180, n_points),\n",
    "    'latitude': np.random.uniform(-90, 90, n_points),\n",
    "    'time': pd.date_range('2020-01-01', periods=n_points, freq='6h'),\n",
    "    'type': np.random.choice([\n",
    "        'FLOAT_TEMPERATURE', \n",
    "        'BOTTLE_TEMPERATURE', \n",
    "        'CTD_TEMPERATURE',\n",
    "        'MOORING_TEMPERATURE'\n",
    "    ], n_points, p=[0.6, 0.2, 0.15, 0.05])\n",
    "})\n",
    "\n",
    "print(f\"Created dataset with {len(df)} points\")\n",
    "print(f\"Columns: {list(df.columns)}\")\n",
    "print(f\"Types: {sorted(df['type'].unique())}\")"
   ]
  },
  {
   "cell_type": "code",
   "execution_count": null,
   "id": "2",
   "metadata": {},
   "outputs": [],
   "source": [
    "# Basic usage: Default axes (obs vs vertical)\n",
    "from crococamp.viz import InteractiveProfileWidget\n",
    "\n",
    "widget1 = InteractiveProfileWidget(df)\n",
    "widget1.setup()"
   ]
  },
  {
   "cell_type": "code",
   "execution_count": null,
   "id": "3",
   "metadata": {},
   "outputs": [],
   "source": [
    "# Custom axes: Residual analysis\n",
    "widget2 = InteractiveProfileWidget(df, x='abs_residual', y='vertical')\n",
    "widget2.setup()"
   ]
  },
  {
   "cell_type": "code",
   "execution_count": null,
   "id": "4",
   "metadata": {},
   "outputs": [],
   "source": [
    "# With custom configuration\n",
    "from crococamp.viz import ProfileConfig\n",
    "\n",
    "config = ProfileConfig(\n",
    "    colormap='plasma',\n",
    "    figure_size=(12, 8),\n",
    "    marker_size=30,\n",
    "    marker_alpha=0.8,\n",
    "    invert_yaxis=False,  # Don't invert for this example\n",
    "    grid=True\n",
    ")\n",
    "\n",
    "widget3 = InteractiveProfileWidget(df, x='obs', y='salinity', config=config)\n",
    "widget3.setup()"
   ]
  },
  {
   "cell_type": "markdown",
   "id": "5",
   "metadata": {},
   "source": [
    "## Features\n",
    "\n",
    "The `InteractiveProfileWidget` provides:\n",
    "\n",
    "- **Interactive axis selection**: Choose x and y axes from dropdown menus\n",
    "- **Type filtering**: Select one or more observation types to display\n",
    "- **Automatic y-axis inversion**: Default behavior for ocean depth profiles\n",
    "- **Real-time updates**: Plot updates immediately when controls change\n",
    "- **Configurable appearance**: Customize colors, sizes, and plot style\n",
    "- **Pandas/Dask support**: Works with both DataFrame types\n",
    "\n",
    "## Widget Controls\n",
    "\n",
    "1. **X-axis dropdown**: Select column for horizontal axis\n",
    "2. **Y-axis dropdown**: Select column for vertical axis  \n",
    "3. **Types multi-select**: Choose which observation types to show\n",
    "\n",
    "The plot updates automatically when you change any control!"
   ]
  }
 ],
 "metadata": {
  "kernelspec": {
   "display_name": "Python [conda env:crococamp]",
   "language": "python",
   "name": "conda-env-crococamp-py"
  },
  "language_info": {
   "codemirror_mode": {
    "name": "ipython",
    "version": 3
   },
   "file_extension": ".py",
   "mimetype": "text/x-python",
   "name": "python",
   "nbconvert_exporter": "python",
   "pygments_lexer": "ipython3"
  }
 },
 "nbformat": 4,
 "nbformat_minor": 5
}