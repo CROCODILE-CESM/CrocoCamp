{
 "cells": [
  {
   "cell_type": "markdown",
   "id": "0",
   "metadata": {},
   "source": [
    "# Tutorial 1: Model-Observation comparison with MOM6 and CrocoLake\n",
    "\n",
    "The goal of this tutorial is to get familiar with the basics of using CrocoCamp to interpolate MOM6 output onto the space of observations stored in the World Ocean Database. For this tutorial we will use output from a MOM6 run already stored on NCAR's HPC system, and the World Ocean Database already in obs_sequence format and also stored on NCAR's HPC system.\n",
    "\n",
    "## The configuration file\n",
    "\n",
    "To interpolate the model data onto the observation space, CrocoCamp needs to know where the model and observation data are. We can tell it by using a `config.yaml` configuration file.\n",
    "\n",
    "Start by copying the template into a new file (e.g. in the command line and from this notebook's directory: `cp ../templates/config.yaml ../configs/config_WOD.yaml`)\n",
    "\n",
    "We then use oour favourite editor to modify the new file, making sure that the paths in the `INPUT FILES` section are as follows:"
   ]
  },
  {
   "cell_type": "raw",
   "id": "cad4cbf5-44c2-4275-bd90-6d98c873047e",
   "metadata": {},
   "source": [
    "####### INPUT FILES #######\n",
    "# Directory containing model .nc files to process\n",
    "model_files_folder: /glade/u/home/emilanese/work/DATA/CrocoCamp/demo/in_mom6/\n",
    "\n",
    "# Model configuration files (must be .nc files)\n",
    "template_file: /glade/u/home/emilanese/work/DATA/CrocoCamp/demo/in_mom6/NWA_demo_01.nc\n",
    "static_file: /glade/u/home/emilanese/work/DATA/CrocoCamp/demo/in_mom6_ref/NWA-demo-static.nc\n",
    "ocean_geometry:  /glade/u/home/emilanese/work/DATA/CrocoCamp/demo/in_mom6_ref/NWA-demo-ocean_geometry.nc\n",
    "\n",
    "# Directory containing observation files\n",
    "obs_seq_in_folder: /glade/u/home/emilanese/work/DATA/CrocoCamp/demo/in_WOD/"
   ]
  },
  {
   "cell_type": "markdown",
   "id": "ca83c458-db55-466f-be53-fe4e5a652c1d",
   "metadata": {},
   "source": [
    "Note that `template_file` must be any of the output model files, `static_file` and `ocean_geometry` are the respective MOM6 files containing static and ocean geometry information.\n",
    "\n",
    "Now give a look at the paths in the `OUTPUT FILES` section, and make sure that you are ok with the defaults or change them. You can ignore the `DART` section for this tutorial.\n",
    "\n",
    "## Running the workflow\n",
    "\n",
    "Running the workflow to interpolate the model is quite simple: create a `WorkflowModelObs` instance using the config file that you just generated, and then call its `run()` method.\n",
    "\n",
    "While running, CrocoCamp generates temporary input files that tell DART's `perfect_model_obs` executable where to find MOM6 and WOD data to perform the interpolation."
   ]
  },
  {
   "cell_type": "code",
   "execution_count": null,
   "id": "5e3e260e-2e12-428f-9d61-7e714b0df082",
   "metadata": {},
   "outputs": [],
   "source": [
    "from crococamp.workflows import WorkflowModelObs\n",
    "\n",
    "# interpolate model onto obs space\n",
    "workflow_wod = WorkflowModelObs.from_config_file('../configs/config_tutorial_1.yaml')\n",
    "workflow_wod.run() #use flag clear_output=True if you want to re-run it and automatically clean all previous output"
   ]
  },
  {
   "cell_type": "markdown",
   "id": "5d779b7e-5283-4f73-b3b9-3ed55f151ef0",
   "metadata": {},
   "source": [
    "## Displaying the interactive map\n",
    "\n",
    "CrocoCamp generates a parquet dataset that contains the values of the WOD observations, the MOM6 model data interpolated onto the observations space, and some basic statistics.\n",
    "\n",
    "You can load and explore the data using pandas (CrocoCamp supports also dask for large datasets)."
   ]
  },
  {
   "cell_type": "code",
   "execution_count": null,
   "id": "5fec2851-e4a6-4906-8c21-30e32ab8b448",
   "metadata": {},
   "outputs": [],
   "source": [
    "import pandas as pd\n",
    "df = pd.read_parquet(workflow_wod.config['parquet_folder']) # config contains the information from the config file\n",
    "df.head() # displays first 5 rows in the dataframe"
   ]
  },
  {
   "cell_type": "markdown",
   "id": "cca9ce87-3c56-4e19-ac78-42ff4e838964",
   "metadata": {},
   "source": [
    "Loading the interactive map is as simple as importing the widget and passing the dataframe to it:"
   ]
  },
  {
   "cell_type": "code",
   "execution_count": null,
   "id": "92214808-86f4-41ac-837a-973ebc03ce77",
   "metadata": {},
   "outputs": [],
   "source": [
    "from crococamp.viz import InteractiveWidgetMap\n",
    "widget = InteractiveWidgetMap(df)\n",
    "widget.setup()"
   ]
  },
  {
   "cell_type": "code",
   "execution_count": null,
   "id": "3",
   "metadata": {},
   "outputs": [],
   "source": []
  }
 ],
 "metadata": {
  "kernelspec": {
   "display_name": "Python [conda env:crococamp]",
   "language": "python",
   "name": "conda-env-crococamp-py"
  },
  "language_info": {
   "codemirror_mode": {
    "name": "ipython",
    "version": 3
   },
   "file_extension": ".py",
   "mimetype": "text/x-python",
   "name": "python",
   "nbconvert_exporter": "python",
   "pygments_lexer": "ipython3",
   "version": "3.12.0"
  }
 },
 "nbformat": 4,
 "nbformat_minor": 5
}
